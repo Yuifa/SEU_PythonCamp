{
 "cells": [
  {
   "cell_type": "code",
   "execution_count": null,
   "metadata": {},
   "outputs": [],
   "source": [
    "import turtle\n",
    "turtle.shape(\"turtle\")\n",
    "turtle.speed(50)\n",
    "scale = 0\n",
    "for i in range(60):\n",
    "    scale +=5\n",
    "    for x in range(4):\n",
    "        turtle.forward(25+scale)\n",
    "        turtle.right(90)\n",
    "    turtle.right(5)"
   ]
  },
  {
   "cell_type": "code",
   "execution_count": null,
   "metadata": {},
   "outputs": [],
   "source": [
    "pyth=\"python\\n\"\n",
    "print(pyth*100)"
   ]
  },
  {
   "cell_type": "code",
   "execution_count": null,
   "metadata": {},
   "outputs": [],
   "source": [
    "import random\n",
    "num = random.randrange(0,10)\n",
    "trails = int(input(\"Enter the number of trails:\"))\n",
    "if trails == 0:\n",
    "    trails = random.randint(0,5)\n",
    "guess = int(input(\"Enter a number between 0 and 10:\"))\n",
    "counter =1\n",
    "while guess != num and counter < trails:\n",
    "    if guess < num:\n",
    "        print(\"Too Low\")\n",
    "    else:\n",
    "        print(\"Too High\")\n",
    "    guess = int(input(\"Try again, Enter a number between 0 and 10:\"))\n",
    "    counter = counter + 1\n",
    "if guess == num:\n",
    "    print(\"Great you got the correct number\")\n",
    "    \n",
    "else:\n",
    "    print(\"Game Over\")\n",
    "    print(\"the number was: \" )\n",
    "    print(num)\n",
    "print(\"Your Remaining Trials =\" , trails - counter)"
   ]
  },
  {
   "cell_type": "code",
   "execution_count": null,
   "metadata": {},
   "outputs": [],
   "source": []
  }
 ],
 "metadata": {
  "kernelspec": {
   "display_name": "Python 3",
   "language": "python",
   "name": "python3"
  },
  "language_info": {
   "codemirror_mode": {
    "name": "ipython",
    "version": 3
   },
   "file_extension": ".py",
   "mimetype": "text/x-python",
   "name": "python",
   "nbconvert_exporter": "python",
   "pygments_lexer": "ipython3",
   "version": "3.8.5"
  }
 },
 "nbformat": 4,
 "nbformat_minor": 4
}
